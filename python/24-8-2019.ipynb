{
 "cells": [
  {
   "cell_type": "code",
   "execution_count": 1,
   "metadata": {},
   "outputs": [
    {
     "ename": "SyntaxError",
     "evalue": "invalid syntax (<ipython-input-1-901a1082ee2d>, line 12)",
     "output_type": "error",
     "traceback": [
      "\u001b[1;36m  File \u001b[1;32m\"<ipython-input-1-901a1082ee2d>\"\u001b[1;36m, line \u001b[1;32m12\u001b[0m\n\u001b[1;33m    if(x[i.count(j)!=y[i].count(j)):\u001b[0m\n\u001b[1;37m                                  ^\u001b[0m\n\u001b[1;31mSyntaxError\u001b[0m\u001b[1;31m:\u001b[0m invalid syntax\n"
     ]
    }
   ],
   "source": [
    "x=[]\n",
    "y=[]\n",
    "for i in range(int(input())):\n",
    "    n=input().split()\n",
    "    x.append(n[0])\n",
    "    y.append(n[1])\n",
    "for i in range (n(a)):\n",
    "    if(len x[i]==len (y[i])):\n",
    "        z=set(x[i])\n",
    "        f=True\n",
    "        for j in z:\n",
    "            if(x[i.count(j)!=y[i].count(j)):\n",
    "                 print(\"NO\")\n",
    "                 break\n",
    "        else:\n",
    "                print(\"YES\")\n",
    "            else:\n",
    "                 print(:NO)\n",
    "        \n",
    "    \n",
    "    "
   ]
  },
  {
   "cell_type": "code",
   "execution_count": 2,
   "metadata": {},
   "outputs": [
    {
     "name": "stdout",
     "output_type": "stream",
     "text": [
      "2\n",
      "6\n",
      "1\n",
      "no\n",
      "6\n",
      "YES\n",
      "9\n",
      "no\n",
      "7\n",
      "no\n",
      "8\n",
      "no\n",
      "4\n",
      "no\n"
     ]
    }
   ],
   "source": [
    "#distinct prime factor\n",
    "p= int(input())\n",
    "t= int(input())\n",
    "for i in range(t):\n",
    "    n= int(input())\n",
    "    c=0\n",
    "    special_flag=0\n",
    "    for j in range(2,(n//2)+1):\n",
    "        if n%j ==0:\n",
    "            prime_flag =1\n",
    "            for k in range(2,(j//2)+1):\n",
    "                if j%k == 0:\n",
    "                    prime_flag =0\n",
    "                    break\n",
    "            if prime_flag ==1:\n",
    "                c=c+1\n",
    "                if c>=p:\n",
    "                    special_flag=1\n",
    "                    break\n",
    "    if special_flag ==1:\n",
    "        print(\"YES\")\n",
    "    else:\n",
    "        print(\"no\")\n",
    "                \n",
    "                    \n",
    "        "
   ]
  },
  {
   "cell_type": "code",
   "execution_count": null,
   "metadata": {},
   "outputs": [
    {
     "name": "stdout",
     "output_type": "stream",
     "text": [
      "32\n",
      "32 89\n",
      "67\n",
      "59\n",
      "47\n",
      "34\n",
      "34 "
     ]
    }
   ],
   "source": [
    "#odd exit\n",
    "n= input()\n",
    "even =list()\n",
    "while n!=\"exit\":\n",
    "    n= int(n)\n",
    "    if int(n)%2==0:\n",
    "        max = n\n",
    "        even.append(n)\n",
    "        print(n,end=\" \")\n",
    "    n= input()\n",
    "print(max(even),sep=\" \")        "
   ]
  },
  {
   "cell_type": "markdown",
   "metadata": {},
   "source": [
    "### functions"
   ]
  },
  {
   "cell_type": "markdown",
   "metadata": {},
   "source": [
    "###c-programing\n",
    "1. Reusability\n",
    "2.Easy to debug\n",
    "\n",
    "void sum(); //function declaration\n",
    "void  main()\n",
    "{\n",
    "    int a=10;\n",
    "    int b=20;\n",
    "    sum(); //function call\n",
    "}\n",
    "void sum() //function definition\n",
    "{\n",
    "    c=a+b\n",
    "    print(c)\n",
    "}\n",
    "----------\n",
    "def add():\n",
    "    c=a+b\n",
    "    a=int(input(\"enter a\")\n",
    "    b=int(input(\"enter b\")\n",
    "    add()\n",
    "    \n",
    "    \n",
    "    "
   ]
  },
  {
   "cell_type": "code",
   "execution_count": 20,
   "metadata": {},
   "outputs": [
    {
     "name": "stdout",
     "output_type": "stream",
     "text": [
      "enter a20\n",
      "enter b30\n",
      "10 20 30\n"
     ]
    },
    {
     "data": {
      "text/plain": [
       "(10, 20, 30)"
      ]
     },
     "execution_count": 20,
     "metadata": {},
     "output_type": "execute_result"
    }
   ],
   "source": [
    "def add():\n",
    "    a=10\n",
    "    b=20\n",
    "    c=a+b\n",
    "    print(a,b,c)\n",
    "    return a,b,c\n",
    "a=int(input(\"enter a\"))\n",
    "b=int(input(\"enter b\"))\n",
    "add()"
   ]
  },
  {
   "cell_type": "code",
   "execution_count": 5,
   "metadata": {},
   "outputs": [
    {
     "name": "stdout",
     "output_type": "stream",
     "text": [
      "20\n",
      "10\n"
     ]
    }
   ],
   "source": [
    "a=10\n",
    "def display():\n",
    "    b=20\n",
    "    print(b)\n",
    "    print(a)\n",
    "display()"
   ]
  },
  {
   "cell_type": "code",
   "execution_count": 6,
   "metadata": {},
   "outputs": [
    {
     "name": "stdout",
     "output_type": "stream",
     "text": [
      "20\n",
      "30\n"
     ]
    }
   ],
   "source": [
    "#two local varibles\n",
    "a=10\n",
    "def display():\n",
    "    b=20\n",
    "    a=30\n",
    "    print(b)\n",
    "    print(a)\n",
    "display()"
   ]
  },
  {
   "cell_type": "markdown",
   "metadata": {},
   "source": [
    "### Types of Arguments in python\n",
    "        1.Requried arguments\n",
    "        2.Keyword arguments\n",
    "        3.Default arguments\n",
    "        4.Variable length arguments"
   ]
  },
  {
   "cell_type": "markdown",
   "metadata": {},
   "source": [
    "### Requried arguments"
   ]
  },
  {
   "cell_type": "code",
   "execution_count": 9,
   "metadata": {},
   "outputs": [
    {
     "name": "stdout",
     "output_type": "stream",
     "text": [
      "10 20\n"
     ]
    }
   ],
   "source": [
    "def display(a,b):\n",
    "    print(a,b)\n",
    "display(10,20)"
   ]
  },
  {
   "cell_type": "markdown",
   "metadata": {},
   "source": [
    "### Keyword arguments"
   ]
  },
  {
   "cell_type": "code",
   "execution_count": 10,
   "metadata": {},
   "outputs": [
    {
     "name": "stdout",
     "output_type": "stream",
     "text": [
      "10 20\n"
     ]
    }
   ],
   "source": [
    "def display(a,b):\n",
    "    print(a,b)\n",
    "display(a=10,b=20)"
   ]
  },
  {
   "cell_type": "markdown",
   "metadata": {},
   "source": [
    "### Default arguments"
   ]
  },
  {
   "cell_type": "code",
   "execution_count": 16,
   "metadata": {},
   "outputs": [
    {
     "name": "stdout",
     "output_type": "stream",
     "text": [
      "abc\n",
      "mca\n"
     ]
    }
   ],
   "source": [
    "def display(name,course=\"mca\")\n",
    "    print(name)\n",
    "    print(course)\n",
    "display(name=\"abc\",course=\"mca\")"
   ]
  },
  {
   "cell_type": "code",
   "execution_count": 19,
   "metadata": {},
   "outputs": [
    {
     "name": "stdout",
     "output_type": "stream",
     "text": [
      "lalesh\n",
      "thinaavara\n"
     ]
    }
   ],
   "source": [
    "def display(name,course=\"thinavara\"):\n",
    "    print(name)\n",
    "    print(course)\n",
    "display(name=\"lalesh\",course=\"thinaavara\")"
   ]
  },
  {
   "cell_type": "code",
   "execution_count": 25,
   "metadata": {},
   "outputs": [
    {
     "ename": "SyntaxError",
     "evalue": "invalid syntax (<ipython-input-25-9774f5632efc>, line 3)",
     "output_type": "error",
     "traceback": [
      "\u001b[1;36m  File \u001b[1;32m\"<ipython-input-25-9774f5632efc>\"\u001b[1;36m, line \u001b[1;32m3\u001b[0m\n\u001b[1;33m    for 1 in n\u001b[0m\n\u001b[1;37m              ^\u001b[0m\n\u001b[1;31mSyntaxError\u001b[0m\u001b[1;31m:\u001b[0m invalid syntax\n"
     ]
    }
   ],
   "source": [
    "def is_even_vara():\n",
    "    vara= []\n",
    "    for 1 in range n\n",
    "    if(n%2==0):\n",
    "        vara.append(n)\n",
    "        return vara\n",
    "    print(is_even_vara)"
   ]
  },
  {
   "cell_type": "code",
   "execution_count": 28,
   "metadata": {},
   "outputs": [
    {
     "data": {
      "text/plain": [
       "1"
      ]
     },
     "execution_count": 28,
     "metadata": {},
     "output_type": "execute_result"
    }
   ],
   "source": [
    "def even(i):\n",
    "     if i%2==0:\n",
    "               return 1\n",
    "even(2)"
   ]
  },
  {
   "cell_type": "code",
   "execution_count": 29,
   "metadata": {},
   "outputs": [
    {
     "name": "stdout",
     "output_type": "stream",
     "text": [
      "2\n",
      "4\n",
      "6\n",
      "8\n"
     ]
    }
   ],
   "source": [
    "for i in range(1,10):\n",
    "    if even(i)==1:\n",
    "        print(i)\n",
    "            \n"
   ]
  },
  {
   "cell_type": "code",
   "execution_count": 30,
   "metadata": {},
   "outputs": [
    {
     "name": "stdout",
     "output_type": "stream",
     "text": [
      "20\n"
     ]
    }
   ],
   "source": [
    "#sum\n",
    "s=0\n",
    "for i in range(1,10):\n",
    "       if even(i)==1:\n",
    "            s=s+i\n",
    "print(s)"
   ]
  },
  {
   "cell_type": "code",
   "execution_count": 36,
   "metadata": {},
   "outputs": [
    {
     "name": "stdout",
     "output_type": "stream",
     "text": [
      "enter lower bound10\n",
      "enter lower bound20\n",
      "10\n",
      "12\n",
      "14\n",
      "16\n",
      "18\n"
     ]
    }
   ],
   "source": [
    "a=int(input(\"enter lower bound\"))\n",
    "b=int(input(\"enter lower bound\"))\n",
    "s=0\n",
    "for i in range(a,b):\n",
    "       if even(i)==1:\n",
    "            print(i)\n",
    "            s=s+i\n",
    "            "
   ]
  },
  {
   "cell_type": "code",
   "execution_count": null,
   "metadata": {},
   "outputs": [],
   "source": []
  }
 ],
 "metadata": {
  "kernelspec": {
   "display_name": "Python 3",
   "language": "python",
   "name": "python3"
  },
  "language_info": {
   "codemirror_mode": {
    "name": "ipython",
    "version": 3
   },
   "file_extension": ".py",
   "mimetype": "text/x-python",
   "name": "python",
   "nbconvert_exporter": "python",
   "pygments_lexer": "ipython3",
   "version": "3.7.3"
  }
 },
 "nbformat": 4,
 "nbformat_minor": 2
}
