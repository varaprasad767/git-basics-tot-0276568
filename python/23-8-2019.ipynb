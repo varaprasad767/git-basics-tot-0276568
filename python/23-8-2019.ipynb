{
 "cells": [
  {
   "cell_type": "code",
   "execution_count": 17,
   "metadata": {},
   "outputs": [
    {
     "name": "stdout",
     "output_type": "stream",
     "text": [
      "3\n",
      "no\n",
      "no\n"
     ]
    }
   ],
   "source": [
    "n=int(input(\"\"))\n",
    "while n>1:\n",
    "    if (n%2==0):\n",
    "        n=n/2\n",
    "    else:\n",
    "        n=3*n+1\n",
    "        if(n==1):\n",
    "            print(\"yes\")\n",
    "        else:\n",
    "            print(\"no\")"
   ]
  },
  {
   "cell_type": "code",
   "execution_count": 19,
   "metadata": {},
   "outputs": [
    {
     "name": "stdout",
     "output_type": "stream",
     "text": [
      "7\n",
      "11\n",
      "YES\n",
      "YES\n",
      "YES\n",
      "YES\n",
      "YES\n",
      "YES\n",
      "YES\n"
     ]
    }
   ],
   "source": [
    "t=int(input())\n",
    "n=int(input())\n",
    "for i in range(t):\n",
    "    while n>1:\n",
    "        if n%2==0:\n",
    "            n=n//2\n",
    "        else:\n",
    "            n=3*n+1\n",
    "    if(n==1):\n",
    "        print('YES')\n",
    "    else:\n",
    "        print(\"NO\")"
   ]
  },
  {
   "cell_type": "code",
   "execution_count": null,
   "metadata": {},
   "outputs": [],
   "source": [
    "#armstrong\n",
    "n=int(input(\"enter a number\"))\n",
    "sum = 0\n",
    "temp = n\n",
    "while n > 0:\n",
    "    r = n % 10\n",
    "    sum =sum+r*r*r\n",
    "    n= n//10\n",
    "if temp==sum:\n",
    "    print (temp,\"is an armstrong\")\n",
    "else:\n",
    "      print (temp,\"is not an armstrong\")\n",
    "    "
   ]
  },
  {
   "cell_type": "code",
   "execution_count": null,
   "metadata": {},
   "outputs": [],
   "source": [
    "#primr number or not\n",
    "n=int(input(\"enter a number\"))\n",
    "i=2\n",
    "flag=False\n",
    "while(i<n):\n",
    "    if(n%i==0):\n",
    "        flag=True\n",
    "        break\n",
    "    i=i+1\n",
    "if(flag==False):\n",
    "    print(\"Prime Number\")\n",
    "else:\n",
    "    print(\"Not a Prime Number\")\n",
    "    "
   ]
  },
  {
   "cell_type": "code",
   "execution_count": null,
   "metadata": {},
   "outputs": [],
   "source": [
    "#prime number average\n",
    "a=int(input(\"enter lower number\")) \n",
    "i=2\n",
    "s=0\n",
    "count=0\n",
    "b=int(input(\"enter upper number\")) \n",
    "for i in range(a,b+1):\n",
    "    j=2\n",
    "    flage=False\n",
    "    while(j<i or flage==True):\n",
    "        \n",
    "        if(i%j==0):\n",
    "            flage=True\n",
    "            break\n",
    "        j=j+1\n",
    "    if(flage==False):\n",
    "        s=s+j\n",
    "        count=count+1\n",
    "        print(i,\"is prime Number\")\n",
    "    i=i+1\n",
    "print(s//count)"
   ]
  },
  {
   "cell_type": "code",
   "execution_count": null,
   "metadata": {},
   "outputs": [],
   "source": [
    "#factorial\n",
    "n=int(input(\"enter a number\"))\n",
    "fact=1\n",
    "while(n>=1):\n",
    "    fact=fact*n\n",
    "    n= n-1\n",
    "print(fact)"
   ]
  },
  {
   "cell_type": "code",
   "execution_count": null,
   "metadata": {},
   "outputs": [],
   "source": [
    "#factors\n",
    "n=int(input(\"enter number\"))\n",
    "i=1\n",
    "for i in range (1,n):\n",
    "    if n%i==0:\n",
    "        print(i)"
   ]
  },
  {
   "cell_type": "code",
   "execution_count": null,
   "metadata": {},
   "outputs": [],
   "source": [
    "##### leap year or not\n",
    "n=int(input(\"enter a number\"))\n",
    "if (n%4==0 and n%100!=0) or (n%400==0):\n",
    "    print(\"leap year\")\n",
    "else:\n",
    "    print(\"not leap year\")\n",
    "    "
   ]
  },
  {
   "cell_type": "code",
   "execution_count": null,
   "metadata": {},
   "outputs": [],
   "source": [
    "#### palindrome\n",
    "s=input()\n",
    "reverse=s[::-1]\n",
    "if(s==reverse):\n",
    "    print(\"Palindrome\")\n",
    "else:\n",
    "    print(\"NOt palindrome\")"
   ]
  },
  {
   "cell_type": "code",
   "execution_count": 39,
   "metadata": {},
   "outputs": [
    {
     "name": "stdout",
     "output_type": "stream",
     "text": [
      "teacher\n",
      "number s are:\n",
      "3\n"
     ]
    }
   ],
   "source": [
    "n=input()\n",
    "s=0\n",
    "for i in n:\n",
    "    if(i==\"a\" or i==\"e\" or i==\"i\" or i==\"o\" or i==\"u\"): \n",
    "            s=s+1\n",
    "print(\"number s are:\")\n",
    "print(s)"
   ]
  },
  {
   "cell_type": "code",
   "execution_count": 47,
   "metadata": {},
   "outputs": [
    {
     "ename": "IndentationError",
     "evalue": "unexpected indent (<ipython-input-47-030f7f9575f9>, line 5)",
     "output_type": "error",
     "traceback": [
      "\u001b[1;36m  File \u001b[1;32m\"<ipython-input-47-030f7f9575f9>\"\u001b[1;36m, line \u001b[1;32m5\u001b[0m\n\u001b[1;33m    if(n1!=n2)\u001b[0m\n\u001b[1;37m    ^\u001b[0m\n\u001b[1;31mIndentationError\u001b[0m\u001b[1;31m:\u001b[0m unexpected indent\n"
     ]
    }
   ],
   "source": [
    "a=input()\n",
    "b=input()\n",
    "n1=len(a)\n",
    "n2=len(b)\n",
    "if(n1!=n2)\n",
    "x =sorted(a)\n",
    "a =\" \".join(a)\n",
    "y =sorted(b)\n",
    "b =\" \"join(b)\n",
    "for i in range(0,n1,1)\n",
    "    if(a[i] !=b[i]):\n",
    "        a=\"vara\"\n",
    "        b=\"raav\"\n",
    "    print(yes)\n",
    "    else:\n",
    "        print(no)\n",
    "    "
   ]
  },
  {
   "cell_type": "code",
   "execution_count": null,
   "metadata": {},
   "outputs": [],
   "source": []
  }
 ],
 "metadata": {
  "kernelspec": {
   "display_name": "Python 3",
   "language": "python",
   "name": "python3"
  },
  "language_info": {
   "codemirror_mode": {
    "name": "ipython",
    "version": 3
   },
   "file_extension": ".py",
   "mimetype": "text/x-python",
   "name": "python",
   "nbconvert_exporter": "python",
   "pygments_lexer": "ipython3",
   "version": "3.7.3"
  }
 },
 "nbformat": 4,
 "nbformat_minor": 2
}
