{
 "cells": [
  {
   "cell_type": "code",
   "execution_count": 1,
   "metadata": {},
   "outputs": [
    {
     "name": "stdout",
     "output_type": "stream",
     "text": [
      "3\n",
      "09876543210\n",
      "+91-(987)-654-3210\n",
      "919876543210\n",
      "+91-(987)-654-3210\n",
      "9876512340\n",
      "+91-(987)-651-2340\n"
     ]
    }
   ],
   "source": [
    "n=int(input())\n",
    "for i in range(n):\n",
    "    s=input()\n",
    "    number=s[-10:]\n",
    "    # +91-(XXX)-XXX-XXXX\n",
    "    print(\"+91-(\"+number[0:3]+\")-\"+number[3:6]+\"-\"+number[-4:])"
   ]
  },
  {
   "cell_type": "code",
   "execution_count": 2,
   "metadata": {},
   "outputs": [
    {
     "name": "stdout",
     "output_type": "stream",
     "text": [
      "010101010\n",
      "001101001\n",
      "5\n"
     ]
    }
   ],
   "source": [
    "count=0\n",
    "a=input()\n",
    "b=input()\n",
    "for i in range(len(a)):\n",
    "    if(a[i]==b[i]):\n",
    "        count+=1\n",
    "print(count)"
   ]
  },
  {
   "cell_type": "code",
   "execution_count": null,
   "metadata": {},
   "outputs": [],
   "source": [
    "N=int(input())\n",
    "a=input().split()\n",
    "l=len[a]\n",
    "for i in range(len(a)):\n",
    "    \n"
   ]
  },
  {
   "cell_type": "code",
   "execution_count": 3,
   "metadata": {},
   "outputs": [
    {
     "name": "stdout",
     "output_type": "stream",
     "text": [
      "3\n",
      "p r e m\n",
      "prem\n",
      "k u m a r\n",
      "kumar\n",
      "va a m\n",
      "vaam\n"
     ]
    }
   ],
   "source": [
    "for i in range(int(input())):\n",
    "    print(''.join(input().split()))"
   ]
  },
  {
   "cell_type": "code",
   "execution_count": null,
   "metadata": {},
   "outputs": [],
   "source": []
  },
  {
   "cell_type": "code",
   "execution_count": 3,
   "metadata": {},
   "outputs": [
    {
     "data": {
      "text/plain": [
       "[34, 78, 89, 34]"
      ]
     },
     "execution_count": 3,
     "metadata": {},
     "output_type": "execute_result"
    }
   ],
   "source": [
    "values=[34,-78,89,-34]\n",
    "for i in range(len(values)): \n",
    "    values[i]= abs(values[i])\n",
    "values"
   ]
  },
  {
   "cell_type": "code",
   "execution_count": 4,
   "metadata": {},
   "outputs": [
    {
     "name": "stdout",
     "output_type": "stream",
     "text": [
      "['False', 'True', 'False', 'False', 'False']\n"
     ]
    }
   ],
   "source": [
    "number=[45,56,77,35,23]\n",
    "l=[]\n",
    "for i in number:\n",
    "    if (i%2==0):\n",
    "        l.append(\"True\")\n",
    "    else:\n",
    "        l.append(\"False\")\n",
    "print(l)\n"
   ]
  },
  {
   "cell_type": "code",
   "execution_count": 5,
   "metadata": {},
   "outputs": [],
   "source": [
    "def evenchecklist(number):\n",
    "    l=[]\n",
    "    for i in number:\n",
    "        l.append(not(bool(i%2)))\n",
    "    print(l)\n",
    "    "
   ]
  },
  {
   "cell_type": "code",
   "execution_count": 6,
   "metadata": {},
   "outputs": [
    {
     "data": {
      "text/plain": [
       "False"
      ]
     },
     "execution_count": 6,
     "metadata": {},
     "output_type": "execute_result"
    }
   ],
   "source": [
    "#prime\n",
    "def isprime(n):\n",
    "    flag=True\n",
    "    if n==1:\n",
    "        flag=False\n",
    "        return flag\n",
    "    for i in range(2,n//2+1):\n",
    "        if(n%i==0):\n",
    "            flag=False\n",
    "    return flag\n",
    "isprime(16)"
   ]
  },
  {
   "cell_type": "code",
   "execution_count": null,
   "metadata": {},
   "outputs": [],
   "source": [
    "def prime(n):\n",
    "    l=[]\n",
    "    flag=True\n",
    "    if n==1:\n",
    "        flag=False\n",
    "        return flag\n",
    "    for i in range(2,n//2+1):\n",
    "        if(n%i==0):\n",
    "            flag=False\n",
    "    return flag\n",
    "prime(18)"
   ]
  },
  {
   "cell_type": "code",
   "execution_count": 7,
   "metadata": {},
   "outputs": [
    {
     "name": "stdout",
     "output_type": "stream",
     "text": [
      "3 4 6 7 8\n"
     ]
    },
    {
     "data": {
      "text/plain": [
       "[True, False, False, True, False]"
      ]
     },
     "execution_count": 7,
     "metadata": {},
     "output_type": "execute_result"
    }
   ],
   "source": [
    "n= input().split()\n",
    "for i in range(len(n)):\n",
    "    n[i] = int(n[i]) \n",
    "prime_l =[]\n",
    "for i in n:\n",
    "    prime_l.append(isprime(i))\n",
    "prime_l"
   ]
  },
  {
   "cell_type": "code",
   "execution_count": null,
   "metadata": {},
   "outputs": [],
   "source": []
  }
 ],
 "metadata": {
  "kernelspec": {
   "display_name": "Python 3",
   "language": "python",
   "name": "python3"
  },
  "language_info": {
   "codemirror_mode": {
    "name": "ipython",
    "version": 3
   },
   "file_extension": ".py",
   "mimetype": "text/x-python",
   "name": "python",
   "nbconvert_exporter": "python",
   "pygments_lexer": "ipython3",
   "version": "3.7.3"
  }
 },
 "nbformat": 4,
 "nbformat_minor": 2
}
