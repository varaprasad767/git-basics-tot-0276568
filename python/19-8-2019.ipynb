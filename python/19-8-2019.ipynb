{
 "cells": [
  {
   "cell_type": "markdown",
   "metadata": {},
   "source": [
    "# Date 19-aug-2019\n",
    "## Python\n",
    "to write text in **Bold ** and _B0ld_\n",
    "to write text in * Italic* and _Italic_\n",
    "#### orderd list\n",
    "1. line1\n",
    "\n",
    "2. line2\n",
    "\n",
    "###unorderd List\n",
    "\n",
    "-line 1\n",
    "\n",
    "-line 2\n"
   ]
  },
  {
   "cell_type": "markdown",
   "metadata": {},
   "source": [
    "###check Box\n",
    "\n",
    " -[x] Qst1\n",
    " -[]Qst2\n",
    "\n",
    "*abc*\n",
    "\\*escape\n",
    "\n",
    "[link](http://localhost:8890/notebooks/Desktop/varaprasad%20_python_problems/19-8-2019.ipynb)\n",
    "\n",
    "\n",
    "\n",
    "\n",
    "\n",
    "\n",
    "\n",
    "\n",
    "\n"
   ]
  },
  {
   "cell_type": "code",
   "execution_count": null,
   "metadata": {},
   "outputs": [],
   "source": []
  },
  {
   "cell_type": "code",
   "execution_count": 2,
   "metadata": {},
   "outputs": [
    {
     "name": "stdout",
     "output_type": "stream",
     "text": [
      "vara vara vara\n"
     ]
    }
   ],
   "source": [
    "s1= 'vara'\n",
    "s2= \"vara\"\n",
    "s3= \"\"\"vara\"\"\"\n",
    "print(s1,s2,s3)"
   ]
  },
  {
   "cell_type": "code",
   "execution_count": 3,
   "metadata": {},
   "outputs": [
    {
     "name": "stdout",
     "output_type": "stream",
     "text": [
      "good morning teacher\n",
      "hi how are you\n"
     ]
    }
   ],
   "source": [
    "s5=\"good morning teacher\"\n",
    "s6='hi how are you'\n",
    "print (s5)\n",
    "print(s6)"
   ]
  },
  {
   "cell_type": "code",
   "execution_count": 4,
   "metadata": {},
   "outputs": [
    {
     "name": "stdout",
     "output_type": "stream",
     "text": [
      "lalesh good mornin\n",
      "fhgfhgfh\n",
      "\n"
     ]
    }
   ],
   "source": [
    "s7='''lalesh good mornin\n",
    "fhgfhgfh\n",
    "'''\n",
    "print(s7)"
   ]
  },
  {
   "cell_type": "code",
   "execution_count": 5,
   "metadata": {},
   "outputs": [
    {
     "name": "stdout",
     "output_type": "stream",
     "text": [
      "I dont't want tea\n"
     ]
    }
   ],
   "source": [
    "s8= 'I dont\\'t want tea'\n",
    "print(s8)"
   ]
  },
  {
   "cell_type": "code",
   "execution_count": 11,
   "metadata": {},
   "outputs": [
    {
     "data": {
      "text/plain": [
       "'vpa'"
      ]
     },
     "execution_count": 11,
     "metadata": {},
     "output_type": "execute_result"
    }
   ],
   "source": [
    "s=\"varaprasad\"\n",
    "s[0::4]"
   ]
  },
  {
   "cell_type": "code",
   "execution_count": 12,
   "metadata": {},
   "outputs": [
    {
     "data": {
      "text/plain": [
       "'as'"
      ]
     },
     "execution_count": 12,
     "metadata": {},
     "output_type": "execute_result"
    }
   ],
   "source": [
    "s[1::6]"
   ]
  },
  {
   "cell_type": "code",
   "execution_count": 13,
   "metadata": {},
   "outputs": [
    {
     "name": "stdout",
     "output_type": "stream",
     "text": [
      "10\n"
     ]
    }
   ],
   "source": [
    "print(len(s))"
   ]
  },
  {
   "cell_type": "code",
   "execution_count": 14,
   "metadata": {},
   "outputs": [
    {
     "data": {
      "text/plain": [
       "'vpa'"
      ]
     },
     "execution_count": 14,
     "metadata": {},
     "output_type": "execute_result"
    }
   ],
   "source": [
    "s[::4]"
   ]
  },
  {
   "cell_type": "code",
   "execution_count": 15,
   "metadata": {},
   "outputs": [
    {
     "data": {
      "text/plain": [
       "'arapr'"
      ]
     },
     "execution_count": 15,
     "metadata": {},
     "output_type": "execute_result"
    }
   ],
   "source": [
    "s[1:6]"
   ]
  },
  {
   "cell_type": "code",
   "execution_count": 16,
   "metadata": {},
   "outputs": [
    {
     "data": {
      "text/plain": [
       "'dsraa'"
      ]
     },
     "execution_count": 16,
     "metadata": {},
     "output_type": "execute_result"
    }
   ],
   "source": [
    "s[::-2]"
   ]
  },
  {
   "cell_type": "code",
   "execution_count": 17,
   "metadata": {},
   "outputs": [
    {
     "name": "stdout",
     "output_type": "stream",
     "text": [
      "lalesh good mornin\n",
      "fhgfhgfh\n",
      "\n"
     ]
    }
   ],
   "source": [
    "print(s7)"
   ]
  },
  {
   "cell_type": "code",
   "execution_count": 22,
   "metadata": {},
   "outputs": [
    {
     "name": "stdout",
     "output_type": "stream",
     "text": [
      "2==3 False\n",
      "2!==3 True\n",
      "5>6 False\n",
      "9>56 False\n",
      "-5>-9 True\n"
     ]
    }
   ],
   "source": [
    "print(\"2==3\",2==3)\n",
    "print(\"2!==3\",2 !=3)\n",
    "print(\"5>6\",5>6)\n",
    "print(\"9>56\",9>56)\n",
    "print(\"-5>-9\",-5>-9)"
   ]
  },
  {
   "cell_type": "code",
   "execution_count": 23,
   "metadata": {},
   "outputs": [
    {
     "ename": "NameError",
     "evalue": "name 'false' is not defined",
     "output_type": "error",
     "traceback": [
      "\u001b[1;31m---------------------------------------------------------------------------\u001b[0m",
      "\u001b[1;31mNameError\u001b[0m                                 Traceback (most recent call last)",
      "\u001b[1;32m<ipython-input-23-8b65ed06969a>\u001b[0m in \u001b[0;36m<module>\u001b[1;34m\u001b[0m\n\u001b[0;32m      5\u001b[0m \u001b[1;34m\"49\"\u001b[0m\u001b[1;33m==\u001b[0m\u001b[1;36m49\u001b[0m\u001b[1;33m\u001b[0m\u001b[1;33m\u001b[0m\u001b[0m\n\u001b[0;32m      6\u001b[0m \u001b[1;36m7\u001b[0m\u001b[1;33m>\u001b[0m\u001b[1;32mTrue\u001b[0m\u001b[1;33m\u001b[0m\u001b[1;33m\u001b[0m\u001b[0m\n\u001b[1;32m----> 7\u001b[1;33m \u001b[1;36m7\u001b[0m\u001b[1;33m>\u001b[0m\u001b[0mfalse\u001b[0m\u001b[1;33m\u001b[0m\u001b[1;33m\u001b[0m\u001b[0m\n\u001b[0m",
      "\u001b[1;31mNameError\u001b[0m: name 'false' is not defined"
     ]
    }
   ],
   "source": [
    "0==0.0\n",
    "5==True\n",
    "-10==True\n",
    "0==True\n",
    "\"49\"==49\n",
    "7>True\n",
    "7>false"
   ]
  },
  {
   "cell_type": "code",
   "execution_count": 24,
   "metadata": {},
   "outputs": [
    {
     "name": "stdout",
     "output_type": "stream",
     "text": [
      "enter your namevaraprasad\n",
      "varaprasad\n"
     ]
    }
   ],
   "source": [
    "name = input (\"enter your name\")\n",
    "print(name)"
   ]
  },
  {
   "cell_type": "code",
   "execution_count": 31,
   "metadata": {},
   "outputs": [
    {
     "name": "stdout",
     "output_type": "stream",
     "text": [
      " enter your first name vara\n",
      " enter your last name prasad\n",
      "vara prasad\n",
      "prasad vara\n"
     ]
    }
   ],
   "source": [
    "firstname=input(\" enter your first name \")\n",
    "lastname=input(\" enter your last name \")\n",
    "print (firstname,lastname)\n",
    "print (lastname,firstname)"
   ]
  },
  {
   "cell_type": "code",
   "execution_count": 34,
   "metadata": {},
   "outputs": [
    {
     "ename": "SyntaxError",
     "evalue": "invalid syntax (<ipython-input-34-5b3bd881ae8f>, line 2)",
     "output_type": "error",
     "traceback": [
      "\u001b[1;36m  File \u001b[1;32m\"<ipython-input-34-5b3bd881ae8f>\"\u001b[1;36m, line \u001b[1;32m2\u001b[0m\n\u001b[1;33m    n1=int(n1)\u001b[0m\n\u001b[1;37m     ^\u001b[0m\n\u001b[1;31mSyntaxError\u001b[0m\u001b[1;31m:\u001b[0m invalid syntax\n"
     ]
    }
   ],
   "source": [
    "n1 = input(\"enter number1\"\n",
    "n1=int(n1)\n",
    "n2 = input(\"enter number2\")\n",
    "print(type(n1),type(n2))\n",
    "n2=int(n2)\n",
    "print(n1+n2)\n",
    "      "
   ]
  },
  {
   "cell_type": "code",
   "execution_count": 38,
   "metadata": {},
   "outputs": [
    {
     "name": "stdout",
     "output_type": "stream",
     "text": [
      "lalesh thinavara lalesh thinavara lalesh thinavara  enter a string\n"
     ]
    }
   ],
   "source": [
    "n=(\"lalesh thinavara \")\n",
    "word=(\"enter a string\")\n",
    "print(n*3,word)"
   ]
  },
  {
   "cell_type": "code",
   "execution_count": 39,
   "metadata": {},
   "outputs": [
    {
     "data": {
      "text/plain": [
       "True"
      ]
     },
     "execution_count": 39,
     "metadata": {},
     "output_type": "execute_result"
    }
   ],
   "source": [
    "'p' in 'python'"
   ]
  },
  {
   "cell_type": "code",
   "execution_count": 40,
   "metadata": {},
   "outputs": [
    {
     "data": {
      "text/plain": [
       "False"
      ]
     },
     "execution_count": 40,
     "metadata": {},
     "output_type": "execute_result"
    }
   ],
   "source": [
    "'a' in 'python'"
   ]
  },
  {
   "cell_type": "code",
   "execution_count": 46,
   "metadata": {},
   "outputs": [
    {
     "name": "stdout",
     "output_type": "stream",
     "text": [
      "0\n",
      "1\n",
      "2\n",
      "3\n",
      "4\n",
      "teacher\n"
     ]
    }
   ],
   "source": [
    "for i in range(5):\n",
    "    print(i)\n",
    "print(\"teacher\")"
   ]
  },
  {
   "cell_type": "code",
   "execution_count": 48,
   "metadata": {},
   "outputs": [
    {
     "name": "stdout",
     "output_type": "stream",
     "text": [
      "v\n",
      "a\n",
      "r\n",
      "a\n",
      "p\n",
      "r\n",
      "a\n",
      "s\n",
      "a\n",
      "d\n"
     ]
    }
   ],
   "source": [
    "for i in s:\n",
    "    print (i)"
   ]
  },
  {
   "cell_type": "code",
   "execution_count": 51,
   "metadata": {},
   "outputs": [
    {
     "name": "stdout",
     "output_type": "stream",
     "text": [
      "45,75\n"
     ]
    }
   ],
   "source": [
    "print(45,75,sep=',')"
   ]
  },
  {
   "cell_type": "code",
   "execution_count": null,
   "metadata": {},
   "outputs": [],
   "source": [
    "#even oddn\n",
    "n =int(input(\"enter a number\"))\n",
    "if n%2==0:\n",
    "    print (n,\"is even\")\n",
    "else:\n",
    "    print(n,\"is odd\")\n"
   ]
  },
  {
   "cell_type": "code",
   "execution_count": 59,
   "metadata": {},
   "outputs": [
    {
     "name": "stdout",
     "output_type": "stream",
     "text": [
      "enter a number7\n",
      "7 is positive\n",
      "zero\n"
     ]
    }
   ],
   "source": [
    "n =int(input(\"enter a number\"))\n",
    "if n>0:\n",
    "    print(n,\"is positive\")\n",
    "if n<0:\n",
    "    print(n,\"negative\")\n",
    "else:\n",
    "    print(\"zero\")"
   ]
  },
  {
   "cell_type": "code",
   "execution_count": 72,
   "metadata": {},
   "outputs": [
    {
     "name": "stdout",
     "output_type": "stream",
     "text": [
      "enter number11\n"
     ]
    }
   ],
   "source": [
    " n= int(input(\"enter number\"))\n",
    " if (n%2==0 and n%8==0):\n",
    "     print(\"is even multiple of 8\")\n",
    "else:\n",
    "    if(n%7==0):\n",
    "        print(\"is odd \")"
   ]
  },
  {
   "cell_type": "code",
   "execution_count": 74,
   "metadata": {},
   "outputs": [
    {
     "ename": "SyntaxError",
     "evalue": "invalid syntax (<ipython-input-74-048d022cb04e>, line 2)",
     "output_type": "error",
     "traceback": [
      "\u001b[1;36m  File \u001b[1;32m\"<ipython-input-74-048d022cb04e>\"\u001b[1;36m, line \u001b[1;32m2\u001b[0m\n\u001b[1;33m    if (n%2==0,n!%2==0)\u001b[0m\n\u001b[1;37m                ^\u001b[0m\n\u001b[1;31mSyntaxError\u001b[0m\u001b[1;31m:\u001b[0m invalid syntax\n"
     ]
    }
   ],
   "source": [
    "n =int(input(\"enter a number\"))\n",
    "if (n%2==0,n!%2==0)\n",
    "    print(n)"
   ]
  },
  {
   "cell_type": "code",
   "execution_count": 78,
   "metadata": {},
   "outputs": [
    {
     "name": "stdout",
     "output_type": "stream",
     "text": [
      "enter number6\n",
      "doesn'satisfy any conditions\n"
     ]
    }
   ],
   "source": [
    " n= int(input(\"enter number\")) \n",
    "if n%2==0 and n%8==0:\n",
    "    print(n,\" is divisible by 2 and multiple of 8\")\n",
    "elif n%2==1 and n%7==0:\n",
    "    print(\"n,is not divisible by 2 and multiple of 7\")\n",
    "else:\n",
    "    print(\"doesn\\'satisfy any conditions\")"
   ]
  },
  {
   "cell_type": "markdown",
   "metadata": {},
   "source": [
    "for i in range(1,10)\n",
    "    ifi%2==0:\n",
    "    print(i)"
   ]
  },
  {
   "cell_type": "code",
   "execution_count": 80,
   "metadata": {},
   "outputs": [
    {
     "name": "stdout",
     "output_type": "stream",
     "text": [
      "2\n",
      "4\n",
      "6\n",
      "8\n",
      "10\n"
     ]
    }
   ],
   "source": [
    "for i in  range(2,11,2):\n",
    "    print(i)"
   ]
  },
  {
   "cell_type": "code",
   "execution_count": 85,
   "metadata": {},
   "outputs": [
    {
     "name": "stdout",
     "output_type": "stream",
     "text": [
      "7 14 21 28 35 42 49 56 63 70 77 84 91 98 105 112 119 126 133 140 147 154 161 168 175 182 189 196 203 210 217 224 231 238 245 252 259 266 273 280 287 294 301 308 315 322 329 336 343 350 357 364 371 378 385 392 399 406 413 420 427 434 441 448 455 462 469 476 483 490 497 504 511 518 525 532 539 546 553 560 567 574 581 588 595 602 609 616 623 630 637 644 651 658 665 672 679 686 693 700 707 714 721 728 735 742 749 756 763 770 777 784 791 798 805 812 819 826 833 840 847 854 861 868 875 882 889 896 903 910 917 924 931 938 945 952 959 966 973 980 987 994 "
     ]
    }
   ],
   "source": [
    "for i in range(7,1000,7):\n",
    "    print(i,end=' ')"
   ]
  },
  {
   "cell_type": "code",
   "execution_count": 86,
   "metadata": {},
   "outputs": [
    {
     "name": "stdout",
     "output_type": "stream",
     "text": [
      "1994 1987 1980 1973 1966 1959 1952 1945 1938 1931 1924 1917 1910 1903 1896 1889 1882 1875 1868 1861 1854 1847 1840 1833 1826 1819 1812 1805 1798 1791 1784 1777 1770 1763 1756 1749 1742 1735 1728 1721 1714 1707 1700 1693 1686 1679 1672 1665 1658 1651 1644 1637 1630 1623 1616 1609 1602 1595 1588 1581 1574 1567 1560 1553 1546 1539 1532 1525 1518 1511 1504 1497 1490 1483 1476 1469 1462 1455 1448 1441 1434 1427 1420 1413 1406 1399 1392 1385 1378 1371 1364 1357 1350 1343 1336 1329 1322 1315 1308 1301 1294 1287 1280 1273 1266 1259 1252 1245 1238 1231 1224 1217 1210 1203 1196 1189 1182 1175 1168 1161 1154 1147 1140 1133 1126 1119 1112 1105 1098 1091 1084 1077 1070 1063 1056 1049 1042 1035 1028 1021 1014 1007 1000 993 986 979 972 965 958 951 944 937 930 923 916 909 902 895 888 881 874 867 860 853 846 839 832 825 818 811 804 797 790 783 776 769 762 755 748 741 734 727 720 713 706 699 692 685 678 671 664 657 650 643 636 629 622 615 608 601 594 587 580 573 566 559 552 545 538 531 524 517 510 503 496 489 482 475 468 461 454 447 440 433 426 419 412 405 398 391 384 377 370 363 356 349 342 335 328 321 314 307 300 293 286 279 272 265 258 251 244 237 230 223 216 209 202 195 188 181 174 167 160 153 146 139 132 125 118 111 104 97 90 83 76 69 62 55 48 41 34 27 20 13 "
     ]
    }
   ],
   "source": [
    "for i in range(1994,6,-7):\n",
    "    print(i,end=' ')"
   ]
  },
  {
   "cell_type": "code",
   "execution_count": 90,
   "metadata": {},
   "outputs": [
    {
     "name": "stdout",
     "output_type": "stream",
     "text": [
      "99 97 95 93 91 89 87 85 83 81 79 77 75 73 71 69 67 65 63 61 59 57 55 53 51 "
     ]
    }
   ],
   "source": [
    "for i in range(99,50,-2):\n",
    "    print(i,end=' ')"
   ]
  },
  {
   "cell_type": "code",
   "execution_count": 92,
   "metadata": {},
   "outputs": [
    {
     "name": "stdout",
     "output_type": "stream",
     "text": [
      "1 3 5 7 9 "
     ]
    }
   ],
   "source": [
    "i=1\n",
    "while i<=10:\n",
    "    print(i,end=' ')\n",
    "    i=i+2\n",
    "    "
   ]
  },
  {
   "cell_type": "code",
   "execution_count": 95,
   "metadata": {},
   "outputs": [
    {
     "name": "stdout",
     "output_type": "stream",
     "text": [
      "3 6 9 12 15 18 21 24 27 30 33 36 39 42 45 48 51 54 57 60 63 66 69 72 75 78 81 84 87 90 93 96 99 "
     ]
    }
   ],
   "source": [
    "i=3\n",
    "while i<=100:\n",
    "    print(i,end=' ')\n",
    "    i=i+3\n"
   ]
  },
  {
   "cell_type": "code",
   "execution_count": 96,
   "metadata": {},
   "outputs": [
    {
     "name": "stdout",
     "output_type": "stream",
     "text": [
      "99 96 93 90 87 84 81 78 75 72 69 66 63 60 57 54 51 48 45 42 39 36 33 30 27 24 21 18 15 12 9 6 3 "
     ]
    }
   ],
   "source": [
    "i=99\n",
    "while i>=3:\n",
    "    print(i,end=' ')\n",
    "    i=i-3\n"
   ]
  },
  {
   "cell_type": "code",
   "execution_count": 2,
   "metadata": {},
   "outputs": [
    {
     "name": "stdout",
     "output_type": "stream",
     "text": [
      "enter a number7\n",
      "7 is odd\n"
     ]
    }
   ],
   "source": [
    "n=int(input(\"enter a number\"))\n",
    "if n%2==0:\n",
    "    print(n,\"is even\")\n",
    "else:\n",
    "    print(n,\"is odd\")"
   ]
  },
  {
   "cell_type": "code",
   "execution_count": null,
   "metadata": {},
   "outputs": [],
   "source": [
    "n=int(input(\"enter a number\"))\n",
    "sum = 0\n",
    "temp = n\n",
    "while n > 0:\n",
    "    r = n % 10\n",
    "    sum =sum+r*r*r\n",
    "    n= n//10\n",
    "if temp==sum:\n",
    "    print (temp,\"is an armstrong\")\n",
    "else:\n",
    "      print (temp,\"is not an armstrong\")\n",
    "    "
   ]
  },
  {
   "cell_type": "code",
   "execution_count": 2,
   "metadata": {},
   "outputs": [
    {
     "name": "stdout",
     "output_type": "stream",
     "text": [
      "enter a number5\n",
      "Prime Number\n"
     ]
    }
   ],
   "source": [
    "n=int(input(\"enter a number\"))\n",
    "i=2\n",
    "flag=False\n",
    "while(i<n):\n",
    "    if(n%i==0):\n",
    "        flag=True\n",
    "        break\n",
    "    i=i+1\n",
    "if(flag==False):\n",
    "    print(\"Prime Number\")\n",
    "else:\n",
    "    print(\"Not a Prime Number\")\n",
    "    "
   ]
  },
  {
   "cell_type": "code",
   "execution_count": 26,
   "metadata": {},
   "outputs": [
    {
     "name": "stdout",
     "output_type": "stream",
     "text": [
      "2 Prime Number\n",
      "3 Prime Number\n",
      "5 Prime Number\n",
      "7 Prime Number\n",
      "11 Prime Number\n",
      "13 Prime Number\n",
      "17 Prime Number\n",
      "19 Prime Number\n",
      "23 Prime Number\n",
      "29 Prime Number\n",
      "31 Prime Number\n",
      "37 Prime Number\n",
      "41 Prime Number\n",
      "43 Prime Number\n",
      "47 Prime Number\n"
     ]
    }
   ],
   "source": [
    "#prime number b/w range\n",
    "for j in range(2,50):\n",
    "    flag=False\n",
    "    for i in range(2,j):\n",
    "        if(j%i==0):\n",
    "            flag=True\n",
    "            break\n",
    "    if(flag==False):\n",
    "        print(j,\"Prime Number\")"
   ]
  },
  {
   "cell_type": "code",
   "execution_count": null,
   "metadata": {},
   "outputs": [],
   "source": []
  },
  {
   "cell_type": "code",
   "execution_count": 34,
   "metadata": {},
   "outputs": [
    {
     "name": "stdout",
     "output_type": "stream",
     "text": [
      "enter number6\n",
      "perfect number\n"
     ]
    }
   ],
   "source": [
    "#perfect number\n",
    "n=int(input(\"enter number\"))\n",
    "s=0\n",
    "for i in  range(1,n):\n",
    "    if(n%i==0):\n",
    "         s=s+i\n",
    "if(n==s):\n",
    "    print(\"perfect number\")\n",
    "else:\n",
    "    print(\"not perfect number\")\n"
   ]
  },
  {
   "cell_type": "code",
   "execution_count": null,
   "metadata": {},
   "outputs": [],
   "source": [
    "n=int(input(\"enter a number\")) \n",
    "i=2\n",
    "flag=False\n",
    "for"
   ]
  }
 ],
 "metadata": {
  "kernelspec": {
   "display_name": "Python 3",
   "language": "python",
   "name": "python3"
  },
  "language_info": {
   "codemirror_mode": {
    "name": "ipython",
    "version": 3
   },
   "file_extension": ".py",
   "mimetype": "text/x-python",
   "name": "python",
   "nbconvert_exporter": "python",
   "pygments_lexer": "ipython3",
   "version": "3.7.3"
  }
 },
 "nbformat": 4,
 "nbformat_minor": 2
}
