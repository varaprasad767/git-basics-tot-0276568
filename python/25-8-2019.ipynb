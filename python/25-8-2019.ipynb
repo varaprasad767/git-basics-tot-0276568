{
 "cells": [
  {
   "cell_type": "markdown",
   "metadata": {},
   "source": [
    "### write apython function to sum all the numbers in list"
   ]
  },
  {
   "cell_type": "code",
   "execution_count": 9,
   "metadata": {},
   "outputs": [
    {
     "name": "stdout",
     "output_type": "stream",
     "text": [
      "numbers: 3\n",
      "Enter number 1\n",
      "Enter number 3\n",
      "Enter number 4\n",
      "8\n"
     ]
    }
   ],
   "source": [
    "def sums():\n",
    "    lst = []\n",
    "    num = int(input('numbers: '))\n",
    "    for i in range(num):\n",
    "        numbers = int(input('Enter number '))\n",
    "        lst.append(numbers)\n",
    "    print(sum(lst))\n",
    "sums()"
   ]
  },
  {
   "cell_type": "code",
   "execution_count": null,
   "metadata": {},
   "outputs": [],
   "source": [
    "### "
   ]
  },
  {
   "cell_type": "markdown",
   "metadata": {},
   "source": [
    "### write program function to multiply all the numbers in a list"
   ]
  },
  {
   "cell_type": "code",
   "execution_count": 4,
   "metadata": {},
   "outputs": [
    {
     "name": "stdout",
     "output_type": "stream",
     "text": [
      "-336\n"
     ]
    }
   ],
   "source": [
    "def multiply(numbers):  \n",
    "    total = 1\n",
    "    for x in numbers:\n",
    "        total *= x  \n",
    "    return total  \n",
    "print(multiply((8, 2, 3, -1, 7)))"
   ]
  },
  {
   "cell_type": "markdown",
   "metadata": {},
   "source": [
    "### leap year"
   ]
  },
  {
   "cell_type": "code",
   "execution_count": null,
   "metadata": {},
   "outputs": [],
   "source": [
    "\n",
    "\n",
    "def leapyear():\n",
    "    a=int(input())\n",
    "    \n",
    "    if(a%4==0 and a%100!=0 or a%400==0):\n",
    "        print (\"leap year\")\n",
    "    else:\n",
    "        print (\"not leap year\")\n",
    "\n",
    "leapyear()\n",
    "    "
   ]
  },
  {
   "cell_type": "markdown",
   "metadata": {},
   "source": [
    "### reverse String"
   ]
  },
  {
   "cell_type": "code",
   "execution_count": 3,
   "metadata": {},
   "outputs": [
    {
     "name": "stdout",
     "output_type": "stream",
     "text": [
      "varaprasad\n",
      "dasarparav\n"
     ]
    }
   ],
   "source": [
    "def reverse():\n",
    "    s=(input())\n",
    "    v=s[::-1]\n",
    "    print(v)\n",
    "    \n",
    "reverse()   \n",
    "    "
   ]
  },
  {
   "cell_type": "markdown",
   "metadata": {},
   "source": [
    "### palindrome"
   ]
  },
  {
   "cell_type": "code",
   "execution_count": 2,
   "metadata": {},
   "outputs": [
    {
     "name": "stdout",
     "output_type": "stream",
     "text": [
      "123\n",
      "not palindrome\n"
     ]
    }
   ],
   "source": [
    "def palindrome():\n",
    "    s=input()\n",
    "    reverse=s[::-1]\n",
    "    if(s==reverse):\n",
    "        print(\"palindrome\")\n",
    "    else:\n",
    "        print(\"not palindrome\")\n",
    "palindrome()"
   ]
  },
  {
   "cell_type": "markdown",
   "metadata": {},
   "source": [
    "### check wether given number range\n"
   ]
  },
  {
   "cell_type": "code",
   "execution_count": 5,
   "metadata": {},
   "outputs": [
    {
     "name": "stdout",
     "output_type": "stream",
     "text": [
      "2\n",
      "40\n",
      "56\n",
      "no\n"
     ]
    }
   ],
   "source": [
    "def givenrange():\n",
    "    a= int(input())\n",
    "    b= int(input())\n",
    "    c=int(input())\n",
    "    if c in range(a,b):\n",
    "        print(\"yes\")\n",
    "    else:\n",
    "        print(\"no\")\n",
    "givenrange()\n",
    "        "
   ]
  },
  {
   "cell_type": "markdown",
   "metadata": {},
   "source": [
    "### print the even number from given list"
   ]
  },
  {
   "cell_type": "code",
   "execution_count": 12,
   "metadata": {},
   "outputs": [
    {
     "name": "stdout",
     "output_type": "stream",
     "text": [
      "12\n",
      "2\n",
      "4\n",
      "6\n",
      "8\n",
      "10\n",
      "12\n"
     ]
    },
    {
     "data": {
      "text/plain": [
       "1"
      ]
     },
     "execution_count": 12,
     "metadata": {},
     "output_type": "execute_result"
    }
   ],
   "source": [
    "list1=[]\n",
    "n=int(input())\n",
    "for i in range(1,n+1):\n",
    "    list1.append(i)\n",
    "    def even(i):\n",
    "        if(i%2==0):\n",
    "            return 1\n",
    "for i in list1:\n",
    "    if even (i)==1:\n",
    "        print(i)\n",
    "even(i)"
   ]
  },
  {
   "cell_type": "markdown",
   "metadata": {},
   "source": [
    "###  factorial"
   ]
  },
  {
   "cell_type": "code",
   "execution_count": 26,
   "metadata": {},
   "outputs": [
    {
     "name": "stdout",
     "output_type": "stream",
     "text": [
      "4\n",
      "24\n"
     ]
    }
   ],
   "source": [
    "n=int(input())\n",
    "def factorial(n):\n",
    "    fact=1\n",
    "    while (n>=1):\n",
    "        fact=fact*n\n",
    "        n=n-1\n",
    "    print (fact)\n",
    "factorial(n)"
   ]
  },
  {
   "cell_type": "markdown",
   "metadata": {},
   "source": [
    "### factros"
   ]
  },
  {
   "cell_type": "code",
   "execution_count": 36,
   "metadata": {},
   "outputs": [
    {
     "name": "stdout",
     "output_type": "stream",
     "text": [
      "10\n",
      "1\n",
      "2\n",
      "5\n"
     ]
    }
   ],
   "source": [
    "n=int(input())\n",
    "def factros(n):\n",
    "    i=1\n",
    "    for i in range(1,n):\n",
    "        if(n%i==0):\n",
    "            print(i)\n",
    "factros(n)"
   ]
  },
  {
   "cell_type": "markdown",
   "metadata": {},
   "source": [
    "## uniqie list"
   ]
  },
  {
   "cell_type": "code",
   "execution_count": 33,
   "metadata": {},
   "outputs": [],
   "source": [
    "myList1 = [1,2,2,3,1,3,4,5]"
   ]
  },
  {
   "cell_type": "code",
   "execution_count": 34,
   "metadata": {},
   "outputs": [],
   "source": [
    "def unique(myList):\n",
    "    result = []\n",
    "    for each in myList:\n",
    "        if each not in result:\n",
    "            result.append(each)\n",
    "    return result\n",
    "    "
   ]
  },
  {
   "cell_type": "code",
   "execution_count": 35,
   "metadata": {},
   "outputs": [
    {
     "data": {
      "text/plain": [
       "[1, 2, 3, 4, 5]"
      ]
     },
     "execution_count": 35,
     "metadata": {},
     "output_type": "execute_result"
    }
   ],
   "source": [
    "unique(myList1)"
   ]
  },
  {
   "cell_type": "markdown",
   "metadata": {},
   "source": [
    "### count the  no of digits in given number"
   ]
  },
  {
   "cell_type": "code",
   "execution_count": 51,
   "metadata": {},
   "outputs": [
    {
     "name": "stdout",
     "output_type": "stream",
     "text": [
      "775433\n",
      "6\n"
     ]
    }
   ],
   "source": [
    "n= int(input())\n",
    "def vara(n):\n",
    "    count=0\n",
    "    while(n>0):\n",
    "        count=count+1\n",
    "        n=n//10\n",
    "    print(count)\n",
    "vara(n)"
   ]
  },
  {
   "cell_type": "code",
   "execution_count": null,
   "metadata": {},
   "outputs": [],
   "source": []
  },
  {
   "cell_type": "code",
   "execution_count": null,
   "metadata": {},
   "outputs": [],
   "source": []
  }
 ],
 "metadata": {
  "kernelspec": {
   "display_name": "Python 3",
   "language": "python",
   "name": "python3"
  },
  "language_info": {
   "codemirror_mode": {
    "name": "ipython",
    "version": 3
   },
   "file_extension": ".py",
   "mimetype": "text/x-python",
   "name": "python",
   "nbconvert_exporter": "python",
   "pygments_lexer": "ipython3",
   "version": "3.7.3"
  }
 },
 "nbformat": 4,
 "nbformat_minor": 2
}
